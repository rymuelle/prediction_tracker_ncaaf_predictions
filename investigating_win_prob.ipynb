{
  "nbformat": 4,
  "nbformat_minor": 0,
  "metadata": {
    "colab": {
      "name": "investigating_win_prob.ipynb",
      "provenance": [],
      "collapsed_sections": [],
      "authorship_tag": "ABX9TyPAtMb4gatQTYFq6gP+3fNM",
      "include_colab_link": true
    },
    "kernelspec": {
      "name": "python3",
      "display_name": "Python 3"
    }
  },
  "cells": [
    {
      "cell_type": "markdown",
      "metadata": {
        "id": "view-in-github",
        "colab_type": "text"
      },
      "source": [
        "<a href=\"https://colab.research.google.com/github/rymuelle/prediction_tracker_ncaaf_predictions/blob/main/investigating_win_prob.ipynb\" target=\"_parent\"><img src=\"https://colab.research.google.com/assets/colab-badge.svg\" alt=\"Open In Colab\"/></a>"
      ]
    },
    {
      "cell_type": "markdown",
      "metadata": {
        "id": "ly3c189XI6MS"
      },
      "source": [
        "You can ignore this stuff, we are just initilizing some things:"
      ]
    },
    {
      "cell_type": "code",
      "metadata": {
        "id": "k82hjxhaE1ou"
      },
      "source": [
        "import pandas as pd\n",
        "import numpy as np\n",
        "import io\n",
        "import requests\n",
        "import matplotlib.pyplot as plt\n",
        "from scipy.optimize import curve_fit\n",
        "import math"
      ],
      "execution_count": 66,
      "outputs": []
    },
    {
      "cell_type": "code",
      "metadata": {
        "colab": {
          "base_uri": "https://localhost:8080/"
        },
        "id": "q4iXpVtFE8pO",
        "outputId": "34e15707-ba40-4bc1-e18b-bd246e044cc7"
      },
      "source": [
        "url=\"https://raw.githubusercontent.com/rymuelle/prediction_tracker_ncaaf_predictions/main/line_dataframe.csv\"\n",
        "s=requests.get(url).content\n",
        "df=pd.read_csv(io.StringIO(s.decode('utf-8')))\n",
        "df['mov'] = df.hscore - df.vscore"
      ],
      "execution_count": 67,
      "outputs": [
        {
          "output_type": "stream",
          "text": [
            "/usr/local/lib/python3.6/dist-packages/IPython/core/interactiveshell.py:2718: DtypeWarning: Columns (39) have mixed types.Specify dtype option on import or set low_memory=False.\n",
            "  interactivity=interactivity, compiler=compiler, result=result)\n"
          ],
          "name": "stderr"
        }
      ]
    },
    {
      "cell_type": "code",
      "metadata": {
        "id": "deFvm_tCJCAs"
      },
      "source": [
        "def gauss(x,norm, sigma, mean):\n",
        "  return norm*np.exp(-(x-mean)**2/(2*sigma**2))"
      ],
      "execution_count": 68,
      "outputs": []
    },
    {
      "cell_type": "markdown",
      "metadata": {
        "id": "V9hPBYqcFQ2b"
      },
      "source": [
        "The goal of this notebook is to understand how vegas lines relate to win %. Our first step is just to look at MOV and lines and understand what our data looks like:"
      ]
    },
    {
      "cell_type": "code",
      "metadata": {
        "colab": {
          "base_uri": "https://localhost:8080/",
          "height": 338
        },
        "id": "XuEx-ympFJl1",
        "outputId": "1354a669-51c3-4532-c2b4-814d1d1a4c36"
      },
      "source": [
        "df.head()"
      ],
      "execution_count": 69,
      "outputs": [
        {
          "output_type": "execute_result",
          "data": {
            "text/html": [
              "<div>\n",
              "<style scoped>\n",
              "    .dataframe tbody tr th:only-of-type {\n",
              "        vertical-align: middle;\n",
              "    }\n",
              "\n",
              "    .dataframe tbody tr th {\n",
              "        vertical-align: top;\n",
              "    }\n",
              "\n",
              "    .dataframe thead th {\n",
              "        text-align: right;\n",
              "    }\n",
              "</style>\n",
              "<table border=\"1\" class=\"dataframe\">\n",
              "  <thead>\n",
              "    <tr style=\"text-align: right;\">\n",
              "      <th></th>\n",
              "      <th>Unnamed: 0</th>\n",
              "      <th>home</th>\n",
              "      <th>road</th>\n",
              "      <th>line</th>\n",
              "      <th>linesag</th>\n",
              "      <th>linescrp</th>\n",
              "      <th>linemass</th>\n",
              "      <th>linedunk</th>\n",
              "      <th>linepfz</th>\n",
              "      <th>lineperry</th>\n",
              "      <th>linemore</th>\n",
              "      <th>linesea</th>\n",
              "      <th>linemars</th>\n",
              "      <th>lineray</th>\n",
              "      <th>lineargh</th>\n",
              "      <th>linecpa</th>\n",
              "      <th>linehow</th>\n",
              "      <th>linecoll</th>\n",
              "      <th>linegupt</th>\n",
              "      <th>lineed</th>\n",
              "      <th>lineharm</th>\n",
              "      <th>linefrez</th>\n",
              "      <th>linefly</th>\n",
              "      <th>linebihl</th>\n",
              "      <th>linemont</th>\n",
              "      <th>linetsr</th>\n",
              "      <th>lineavg</th>\n",
              "      <th>lineelo</th>\n",
              "      <th>linebill</th>\n",
              "      <th>linebmc</th>\n",
              "      <th>lineswt</th>\n",
              "      <th>lineborn</th>\n",
              "      <th>linem2</th>\n",
              "      <th>lineroth</th>\n",
              "      <th>linecpa2</th>\n",
              "      <th>linemaxy</th>\n",
              "      <th>linewolf</th>\n",
              "      <th>linebass</th>\n",
              "      <th>vscore</th>\n",
              "      <th>date</th>\n",
              "      <th>...</th>\n",
              "      <th>linepivint</th>\n",
              "      <th>linesid</th>\n",
              "      <th>linemidweek</th>\n",
              "      <th>linefeng</th>\n",
              "      <th>linefremeau</th>\n",
              "      <th>linepimean</th>\n",
              "      <th>linepibias</th>\n",
              "      <th>linecurry</th>\n",
              "      <th>linedonchess</th>\n",
              "      <th>linemassey</th>\n",
              "      <th>linemoore</th>\n",
              "      <th>linethocal</th>\n",
              "      <th>linethoavg</th>\n",
              "      <th>linesaggm</th>\n",
              "      <th>linenscombo</th>\n",
              "      <th>linethoats</th>\n",
              "      <th>linemds</th>\n",
              "      <th>linehorobik</th>\n",
              "      <th>linenseye</th>\n",
              "      <th>lineclean</th>\n",
              "      <th>lineespn</th>\n",
              "      <th>linepp</th>\n",
              "      <th>linecrunch</th>\n",
              "      <th>linesagr</th>\n",
              "      <th>linefpi</th>\n",
              "      <th>lineteamrank</th>\n",
              "      <th>linelabr</th>\n",
              "      <th>linebc2</th>\n",
              "      <th>lineround</th>\n",
              "      <th>linefei</th>\n",
              "      <th>linetalis</th>\n",
              "      <th>phcover</th>\n",
              "      <th>phwin</th>\n",
              "      <th>linejens</th>\n",
              "      <th>linepaynep</th>\n",
              "      <th>linepaynewl</th>\n",
              "      <th>lineharville</th>\n",
              "      <th>linegiddens</th>\n",
              "      <th>lineunion</th>\n",
              "      <th>mov</th>\n",
              "    </tr>\n",
              "  </thead>\n",
              "  <tbody>\n",
              "    <tr>\n",
              "      <th>0</th>\n",
              "      <td>0</td>\n",
              "      <td>BYU</td>\n",
              "      <td>Tulane</td>\n",
              "      <td>9.5</td>\n",
              "      <td>11.56</td>\n",
              "      <td>7.47</td>\n",
              "      <td>9.99</td>\n",
              "      <td>7.4</td>\n",
              "      <td>8.44</td>\n",
              "      <td>-1.84</td>\n",
              "      <td>3.12</td>\n",
              "      <td>NaN</td>\n",
              "      <td>6.0</td>\n",
              "      <td>9.1</td>\n",
              "      <td>12.0</td>\n",
              "      <td>11.0</td>\n",
              "      <td>12.0</td>\n",
              "      <td>NaN</td>\n",
              "      <td>NaN</td>\n",
              "      <td>NaN</td>\n",
              "      <td>NaN</td>\n",
              "      <td>NaN</td>\n",
              "      <td>NaN</td>\n",
              "      <td>NaN</td>\n",
              "      <td>NaN</td>\n",
              "      <td>NaN</td>\n",
              "      <td>6.95</td>\n",
              "      <td>NaN</td>\n",
              "      <td>NaN</td>\n",
              "      <td>11.0</td>\n",
              "      <td>5.34</td>\n",
              "      <td>5.1</td>\n",
              "      <td>NaN</td>\n",
              "      <td>NaN</td>\n",
              "      <td>NaN</td>\n",
              "      <td>NaN</td>\n",
              "      <td>NaN</td>\n",
              "      <td>NaN</td>\n",
              "      <td>35.0</td>\n",
              "      <td>25/08/01</td>\n",
              "      <td>...</td>\n",
              "      <td>NaN</td>\n",
              "      <td>NaN</td>\n",
              "      <td>NaN</td>\n",
              "      <td>NaN</td>\n",
              "      <td>NaN</td>\n",
              "      <td>NaN</td>\n",
              "      <td>NaN</td>\n",
              "      <td>NaN</td>\n",
              "      <td>NaN</td>\n",
              "      <td>NaN</td>\n",
              "      <td>NaN</td>\n",
              "      <td>NaN</td>\n",
              "      <td>NaN</td>\n",
              "      <td>NaN</td>\n",
              "      <td>NaN</td>\n",
              "      <td>NaN</td>\n",
              "      <td>NaN</td>\n",
              "      <td>NaN</td>\n",
              "      <td>NaN</td>\n",
              "      <td>NaN</td>\n",
              "      <td>NaN</td>\n",
              "      <td>NaN</td>\n",
              "      <td>NaN</td>\n",
              "      <td>NaN</td>\n",
              "      <td>NaN</td>\n",
              "      <td>NaN</td>\n",
              "      <td>NaN</td>\n",
              "      <td>NaN</td>\n",
              "      <td>NaN</td>\n",
              "      <td>NaN</td>\n",
              "      <td>NaN</td>\n",
              "      <td>NaN</td>\n",
              "      <td>NaN</td>\n",
              "      <td>NaN</td>\n",
              "      <td>NaN</td>\n",
              "      <td>NaN</td>\n",
              "      <td>NaN</td>\n",
              "      <td>NaN</td>\n",
              "      <td>NaN</td>\n",
              "      <td>35.0</td>\n",
              "    </tr>\n",
              "    <tr>\n",
              "      <th>1</th>\n",
              "      <td>1</td>\n",
              "      <td>Colorado</td>\n",
              "      <td>Fresno St.</td>\n",
              "      <td>10.0</td>\n",
              "      <td>10.60</td>\n",
              "      <td>5.99</td>\n",
              "      <td>10.74</td>\n",
              "      <td>1.9</td>\n",
              "      <td>3.70</td>\n",
              "      <td>1.26</td>\n",
              "      <td>9.15</td>\n",
              "      <td>NaN</td>\n",
              "      <td>-2.0</td>\n",
              "      <td>3.5</td>\n",
              "      <td>11.0</td>\n",
              "      <td>5.4</td>\n",
              "      <td>6.5</td>\n",
              "      <td>NaN</td>\n",
              "      <td>NaN</td>\n",
              "      <td>NaN</td>\n",
              "      <td>8.0</td>\n",
              "      <td>NaN</td>\n",
              "      <td>NaN</td>\n",
              "      <td>NaN</td>\n",
              "      <td>NaN</td>\n",
              "      <td>NaN</td>\n",
              "      <td>5.92</td>\n",
              "      <td>NaN</td>\n",
              "      <td>NaN</td>\n",
              "      <td>9.0</td>\n",
              "      <td>12.07</td>\n",
              "      <td>10.1</td>\n",
              "      <td>NaN</td>\n",
              "      <td>NaN</td>\n",
              "      <td>NaN</td>\n",
              "      <td>NaN</td>\n",
              "      <td>NaN</td>\n",
              "      <td>NaN</td>\n",
              "      <td>24.0</td>\n",
              "      <td>26/08/01</td>\n",
              "      <td>...</td>\n",
              "      <td>NaN</td>\n",
              "      <td>NaN</td>\n",
              "      <td>NaN</td>\n",
              "      <td>NaN</td>\n",
              "      <td>NaN</td>\n",
              "      <td>NaN</td>\n",
              "      <td>NaN</td>\n",
              "      <td>NaN</td>\n",
              "      <td>NaN</td>\n",
              "      <td>NaN</td>\n",
              "      <td>NaN</td>\n",
              "      <td>NaN</td>\n",
              "      <td>NaN</td>\n",
              "      <td>NaN</td>\n",
              "      <td>NaN</td>\n",
              "      <td>NaN</td>\n",
              "      <td>NaN</td>\n",
              "      <td>NaN</td>\n",
              "      <td>NaN</td>\n",
              "      <td>NaN</td>\n",
              "      <td>NaN</td>\n",
              "      <td>NaN</td>\n",
              "      <td>NaN</td>\n",
              "      <td>NaN</td>\n",
              "      <td>NaN</td>\n",
              "      <td>NaN</td>\n",
              "      <td>NaN</td>\n",
              "      <td>NaN</td>\n",
              "      <td>NaN</td>\n",
              "      <td>NaN</td>\n",
              "      <td>NaN</td>\n",
              "      <td>NaN</td>\n",
              "      <td>NaN</td>\n",
              "      <td>NaN</td>\n",
              "      <td>NaN</td>\n",
              "      <td>NaN</td>\n",
              "      <td>NaN</td>\n",
              "      <td>NaN</td>\n",
              "      <td>NaN</td>\n",
              "      <td>-2.0</td>\n",
              "    </tr>\n",
              "    <tr>\n",
              "      <th>2</th>\n",
              "      <td>2</td>\n",
              "      <td>Georgia Tech</td>\n",
              "      <td>Syracuse</td>\n",
              "      <td>9.5</td>\n",
              "      <td>3.41</td>\n",
              "      <td>6.38</td>\n",
              "      <td>0.51</td>\n",
              "      <td>8.2</td>\n",
              "      <td>1.84</td>\n",
              "      <td>-8.46</td>\n",
              "      <td>8.45</td>\n",
              "      <td>NaN</td>\n",
              "      <td>8.0</td>\n",
              "      <td>7.7</td>\n",
              "      <td>9.0</td>\n",
              "      <td>10.4</td>\n",
              "      <td>5.5</td>\n",
              "      <td>NaN</td>\n",
              "      <td>NaN</td>\n",
              "      <td>NaN</td>\n",
              "      <td>9.0</td>\n",
              "      <td>NaN</td>\n",
              "      <td>NaN</td>\n",
              "      <td>NaN</td>\n",
              "      <td>NaN</td>\n",
              "      <td>NaN</td>\n",
              "      <td>6.86</td>\n",
              "      <td>NaN</td>\n",
              "      <td>NaN</td>\n",
              "      <td>11.0</td>\n",
              "      <td>22.97</td>\n",
              "      <td>6.2</td>\n",
              "      <td>NaN</td>\n",
              "      <td>NaN</td>\n",
              "      <td>NaN</td>\n",
              "      <td>NaN</td>\n",
              "      <td>NaN</td>\n",
              "      <td>NaN</td>\n",
              "      <td>7.0</td>\n",
              "      <td>26/08/01</td>\n",
              "      <td>...</td>\n",
              "      <td>NaN</td>\n",
              "      <td>NaN</td>\n",
              "      <td>NaN</td>\n",
              "      <td>NaN</td>\n",
              "      <td>NaN</td>\n",
              "      <td>NaN</td>\n",
              "      <td>NaN</td>\n",
              "      <td>NaN</td>\n",
              "      <td>NaN</td>\n",
              "      <td>NaN</td>\n",
              "      <td>NaN</td>\n",
              "      <td>NaN</td>\n",
              "      <td>NaN</td>\n",
              "      <td>NaN</td>\n",
              "      <td>NaN</td>\n",
              "      <td>NaN</td>\n",
              "      <td>NaN</td>\n",
              "      <td>NaN</td>\n",
              "      <td>NaN</td>\n",
              "      <td>NaN</td>\n",
              "      <td>NaN</td>\n",
              "      <td>NaN</td>\n",
              "      <td>NaN</td>\n",
              "      <td>NaN</td>\n",
              "      <td>NaN</td>\n",
              "      <td>NaN</td>\n",
              "      <td>NaN</td>\n",
              "      <td>NaN</td>\n",
              "      <td>NaN</td>\n",
              "      <td>NaN</td>\n",
              "      <td>NaN</td>\n",
              "      <td>NaN</td>\n",
              "      <td>NaN</td>\n",
              "      <td>NaN</td>\n",
              "      <td>NaN</td>\n",
              "      <td>NaN</td>\n",
              "      <td>NaN</td>\n",
              "      <td>NaN</td>\n",
              "      <td>NaN</td>\n",
              "      <td>6.0</td>\n",
              "    </tr>\n",
              "    <tr>\n",
              "      <th>3</th>\n",
              "      <td>3</td>\n",
              "      <td>Louisville</td>\n",
              "      <td>New Mexico St.</td>\n",
              "      <td>20.0</td>\n",
              "      <td>20.84</td>\n",
              "      <td>19.47</td>\n",
              "      <td>18.17</td>\n",
              "      <td>22.3</td>\n",
              "      <td>10.57</td>\n",
              "      <td>45.92</td>\n",
              "      <td>26.00</td>\n",
              "      <td>NaN</td>\n",
              "      <td>22.0</td>\n",
              "      <td>26.4</td>\n",
              "      <td>22.0</td>\n",
              "      <td>22.9</td>\n",
              "      <td>22.0</td>\n",
              "      <td>NaN</td>\n",
              "      <td>NaN</td>\n",
              "      <td>NaN</td>\n",
              "      <td>26.0</td>\n",
              "      <td>NaN</td>\n",
              "      <td>NaN</td>\n",
              "      <td>NaN</td>\n",
              "      <td>NaN</td>\n",
              "      <td>NaN</td>\n",
              "      <td>23.30</td>\n",
              "      <td>NaN</td>\n",
              "      <td>NaN</td>\n",
              "      <td>19.0</td>\n",
              "      <td>20.58</td>\n",
              "      <td>26.7</td>\n",
              "      <td>NaN</td>\n",
              "      <td>NaN</td>\n",
              "      <td>NaN</td>\n",
              "      <td>NaN</td>\n",
              "      <td>NaN</td>\n",
              "      <td>NaN</td>\n",
              "      <td>24.0</td>\n",
              "      <td>23/08/01</td>\n",
              "      <td>...</td>\n",
              "      <td>NaN</td>\n",
              "      <td>NaN</td>\n",
              "      <td>NaN</td>\n",
              "      <td>NaN</td>\n",
              "      <td>NaN</td>\n",
              "      <td>NaN</td>\n",
              "      <td>NaN</td>\n",
              "      <td>NaN</td>\n",
              "      <td>NaN</td>\n",
              "      <td>NaN</td>\n",
              "      <td>NaN</td>\n",
              "      <td>NaN</td>\n",
              "      <td>NaN</td>\n",
              "      <td>NaN</td>\n",
              "      <td>NaN</td>\n",
              "      <td>NaN</td>\n",
              "      <td>NaN</td>\n",
              "      <td>NaN</td>\n",
              "      <td>NaN</td>\n",
              "      <td>NaN</td>\n",
              "      <td>NaN</td>\n",
              "      <td>NaN</td>\n",
              "      <td>NaN</td>\n",
              "      <td>NaN</td>\n",
              "      <td>NaN</td>\n",
              "      <td>NaN</td>\n",
              "      <td>NaN</td>\n",
              "      <td>NaN</td>\n",
              "      <td>NaN</td>\n",
              "      <td>NaN</td>\n",
              "      <td>NaN</td>\n",
              "      <td>NaN</td>\n",
              "      <td>NaN</td>\n",
              "      <td>NaN</td>\n",
              "      <td>NaN</td>\n",
              "      <td>NaN</td>\n",
              "      <td>NaN</td>\n",
              "      <td>NaN</td>\n",
              "      <td>NaN</td>\n",
              "      <td>21.0</td>\n",
              "    </tr>\n",
              "    <tr>\n",
              "      <th>4</th>\n",
              "      <td>4</td>\n",
              "      <td>Nebraska</td>\n",
              "      <td>TCU</td>\n",
              "      <td>28.0</td>\n",
              "      <td>26.71</td>\n",
              "      <td>20.31</td>\n",
              "      <td>22.94</td>\n",
              "      <td>10.1</td>\n",
              "      <td>19.20</td>\n",
              "      <td>24.46</td>\n",
              "      <td>16.95</td>\n",
              "      <td>NaN</td>\n",
              "      <td>8.0</td>\n",
              "      <td>13.1</td>\n",
              "      <td>23.0</td>\n",
              "      <td>25.1</td>\n",
              "      <td>21.5</td>\n",
              "      <td>NaN</td>\n",
              "      <td>NaN</td>\n",
              "      <td>NaN</td>\n",
              "      <td>12.0</td>\n",
              "      <td>NaN</td>\n",
              "      <td>NaN</td>\n",
              "      <td>NaN</td>\n",
              "      <td>NaN</td>\n",
              "      <td>NaN</td>\n",
              "      <td>19.63</td>\n",
              "      <td>NaN</td>\n",
              "      <td>NaN</td>\n",
              "      <td>31.0</td>\n",
              "      <td>15.86</td>\n",
              "      <td>19.6</td>\n",
              "      <td>NaN</td>\n",
              "      <td>NaN</td>\n",
              "      <td>NaN</td>\n",
              "      <td>NaN</td>\n",
              "      <td>NaN</td>\n",
              "      <td>NaN</td>\n",
              "      <td>7.0</td>\n",
              "      <td>25/08/01</td>\n",
              "      <td>...</td>\n",
              "      <td>NaN</td>\n",
              "      <td>NaN</td>\n",
              "      <td>NaN</td>\n",
              "      <td>NaN</td>\n",
              "      <td>NaN</td>\n",
              "      <td>NaN</td>\n",
              "      <td>NaN</td>\n",
              "      <td>NaN</td>\n",
              "      <td>NaN</td>\n",
              "      <td>NaN</td>\n",
              "      <td>NaN</td>\n",
              "      <td>NaN</td>\n",
              "      <td>NaN</td>\n",
              "      <td>NaN</td>\n",
              "      <td>NaN</td>\n",
              "      <td>NaN</td>\n",
              "      <td>NaN</td>\n",
              "      <td>NaN</td>\n",
              "      <td>NaN</td>\n",
              "      <td>NaN</td>\n",
              "      <td>NaN</td>\n",
              "      <td>NaN</td>\n",
              "      <td>NaN</td>\n",
              "      <td>NaN</td>\n",
              "      <td>NaN</td>\n",
              "      <td>NaN</td>\n",
              "      <td>NaN</td>\n",
              "      <td>NaN</td>\n",
              "      <td>NaN</td>\n",
              "      <td>NaN</td>\n",
              "      <td>NaN</td>\n",
              "      <td>NaN</td>\n",
              "      <td>NaN</td>\n",
              "      <td>NaN</td>\n",
              "      <td>NaN</td>\n",
              "      <td>NaN</td>\n",
              "      <td>NaN</td>\n",
              "      <td>NaN</td>\n",
              "      <td>NaN</td>\n",
              "      <td>14.0</td>\n",
              "    </tr>\n",
              "  </tbody>\n",
              "</table>\n",
              "<p>5 rows × 168 columns</p>\n",
              "</div>"
            ],
            "text/plain": [
              "   Unnamed: 0          home            road  ...  linegiddens  lineunion   mov\n",
              "0           0           BYU          Tulane  ...          NaN        NaN  35.0\n",
              "1           1      Colorado      Fresno St.  ...          NaN        NaN  -2.0\n",
              "2           2  Georgia Tech        Syracuse  ...          NaN        NaN   6.0\n",
              "3           3    Louisville  New Mexico St.  ...          NaN        NaN  21.0\n",
              "4           4      Nebraska             TCU  ...          NaN        NaN  14.0\n",
              "\n",
              "[5 rows x 168 columns]"
            ]
          },
          "metadata": {
            "tags": []
          },
          "execution_count": 69
        }
      ]
    },
    {
      "cell_type": "markdown",
      "metadata": {
        "id": "jTQOvr4TFgjF"
      },
      "source": [
        "In this dataset, we have a ton of info, but we are only interested in the line and final margine of victory (we define as home points - away points), lets look at what that looks like"
      ]
    },
    {
      "cell_type": "code",
      "metadata": {
        "colab": {
          "base_uri": "https://localhost:8080/",
          "height": 315
        },
        "id": "bP2czPgCFPQE",
        "outputId": "6f82f8f7-36f5-4df6-f190-c9a74f663e3e"
      },
      "source": [
        "bins = np.linspace(-50.5,50.5,102)\n",
        "mov_density = plt.hist(df.mov, bins=bins, label=\"MOV\", density=True)\n",
        "line_density = plt.hist(df.line, bins=bins, label=\"line\", density=True, alpha=.5)\n",
        "plt.title(\"Comparision of raw MOV and lines\")\n",
        "plt.legend()\n",
        "print(\"Mean MOV: {}, std: {}\".format(df.mov.mean(),df.mov.std()))\n",
        "print(\"Mean line: {}, std: {}\".format(df.line.mean(),df.line.std()))"
      ],
      "execution_count": 70,
      "outputs": [
        {
          "output_type": "stream",
          "text": [
            "Mean MOV: 4.7996362534101245, std: 21.245318657398663\n",
            "Mean line: 4.923402883156297, std: 13.953754590016597\n"
          ],
          "name": "stdout"
        },
        {
          "output_type": "display_data",
          "data": {
            "image/png": "[encoded data removed]",
            "text/plain": [
              "<Figure size 432x288 with 1 Axes>"
            ]
          },
          "metadata": {
            "tags": [],
            "needs_background": "light"
          }
        }
      ]
    },
    {
      "cell_type": "markdown",
      "metadata": {
        "id": "g4D_Re6rFXWG"
      },
      "source": [
        "We see spikes ever 7 points, as expected, and nice range of both MOVs and lines)\n",
        "\n",
        "An interesting question is \"why does the line and MOV follow different shapes and widths?\" \n",
        "\n",
        "\n",
        "...But we are actually interested in th distribution of (MOV-line):"
      ]
    },
    {
      "cell_type": "code",
      "metadata": {
        "colab": {
          "base_uri": "https://localhost:8080/",
          "height": 298
        },
        "id": "c9ZVAPHpH1AT",
        "outputId": "23ac60b7-d834-4ed0-cf41-9124008ea79c"
      },
      "source": [
        "df['residual'] = df.mov-df.line\n",
        "mov_density = plt.hist(df.residual, bins=bins, label=\"residual\", density=True)\n",
        "plt.title(\"Histogram of residuals\")\n",
        "plt.legend()\n",
        "res_mean = df.residual.mean()\n",
        "res_std = df.residual.std()\n",
        "print(\"Our residual distribution mean: {} std: {}\".format(res_mean, res_std))"
      ],
      "execution_count": 71,
      "outputs": [
        {
          "output_type": "stream",
          "text": [
            "Our residual distribution mean: -0.11383132164275411 std: 15.717530749021323\n"
          ],
          "name": "stdout"
        },
        {
          "output_type": "display_data",
          "data": {
            "image/png": "[encoded data removed]",
            "text/plain": [
              "<Figure size 432x288 with 1 Axes>"
            ]
          },
          "metadata": {
            "tags": [],
            "needs_background": "light"
          }
        }
      ]
    },
    {
      "cell_type": "markdown",
      "metadata": {
        "id": "ua41wOeVKKrL"
      },
      "source": [
        "What we see is a nice, normal (or gaussian) distribution when we subtract the line prediction from MOV. We call this a residual."
      ]
    },
    {
      "cell_type": "code",
      "metadata": {
        "colab": {
          "base_uri": "https://localhost:8080/",
          "height": 298
        },
        "id": "baeYqoJwIEk4",
        "outputId": "a106b486-b7fe-4218-f942-d18ef5e44470"
      },
      "source": [
        "y = mov_density[0]\n",
        "bin_edge = mov_density[1]\n",
        "x = np.asarray([(bin_edge[i]+bin_edge[i+1])/2 for i in range(len(bin_edge)-1)])\n",
        "popt, pcov = curve_fit(gauss,x,y)\n",
        "y_pred = gauss(x,*popt)\n",
        "norm,sigma,_ = popt\n",
        "plt.plot(x,y_pred, label=\"Gaussian fit\")\n",
        "mov_density = plt.hist(df.residual, bins=bins, label=\"residual\", density=True)\n",
        "plt.title(\"Histogram of residuals\")\n",
        "plt.legend()"
      ],
      "execution_count": 73,
      "outputs": [
        {
          "output_type": "execute_result",
          "data": {
            "text/plain": [
              "<matplotlib.legend.Legend at 0x7f38cf3ef550>"
            ]
          },
          "metadata": {
            "tags": []
          },
          "execution_count": 73
        },
        {
          "output_type": "display_data",
          "data": {
            "image/png": "[encoded data removed]",
            "text/plain": [
              "<Figure size 432x288 with 1 Axes>"
            ]
          },
          "metadata": {
            "tags": [],
            "needs_background": "light"
          }
        }
      ]
    },
    {
      "cell_type": "markdown",
      "metadata": {
        "id": "CMdvLishODTW"
      },
      "source": [
        "See how well that Gaussian fits! What this means is that in general, if the line is -10, then we expect the final MOV to be a Gaussian centered at +10 (the line is opposite of the MOV), with a ~16 point width:"
      ]
    },
    {
      "cell_type": "code",
      "metadata": {
        "colab": {
          "base_uri": "https://localhost:8080/",
          "height": 282
        },
        "id": "izy5TcwhOEmw",
        "outputId": "d108e5ab-a7c4-4905-8934-7aff2a193f5a"
      },
      "source": [
        "y_pred_m_10 = gauss(x,norm,sigma,+10.)\n",
        "total_integral = np.sum(y_pred_m_10)\n",
        "y_pred_m_10 = y_pred_m_10/total_integral\n",
        "plt.plot(x,y_pred_m_10, label=\"MOV probability distribution for -10 line\")\n",
        "plt.legend()"
      ],
      "execution_count": 84,
      "outputs": [
        {
          "output_type": "execute_result",
          "data": {
            "text/plain": [
              "<matplotlib.legend.Legend at 0x7f38cfe55a58>"
            ]
          },
          "metadata": {
            "tags": []
          },
          "execution_count": 84
        },
        {
          "output_type": "display_data",
          "data": {
            "image/png": "[encoded data removed]",
            "text/plain": [
              "<Figure size 432x288 with 1 Axes>"
            ]
          },
          "metadata": {
            "tags": [],
            "needs_background": "light"
          }
        }
      ]
    },
    {
      "cell_type": "markdown",
      "metadata": {
        "id": "MVYcRvdCKxNG"
      },
      "source": [
        "For the underdog away team to win in this example, we need MOV < 0"
      ]
    },
    {
      "cell_type": "code",
      "metadata": {
        "colab": {
          "base_uri": "https://localhost:8080/",
          "height": 282
        },
        "id": "8JQXahqNJmxS",
        "outputId": "7749bf19-99c7-424b-c6cc-5d2bfd39368e"
      },
      "source": [
        "x_away_win = np.linspace(-50.5,-0.5,51)\n",
        "y_away_win = gauss(x_away_win,norm,sigma,10)/total_integral\n",
        "plt.plot(x,y_pred_m_10, label=\"MOV probability distribution for -10 line\")\n",
        "plt.fill_between(x_away_win,y_away_win, label=\"Away win area\", color='green')\n",
        "plt.legend()"
      ],
      "execution_count": 93,
      "outputs": [
        {
          "output_type": "execute_result",
          "data": {
            "text/plain": [
              "<matplotlib.legend.Legend at 0x7f38cff342e8>"
            ]
          },
          "metadata": {
            "tags": []
          },
          "execution_count": 93
        },
        {
          "output_type": "display_data",
          "data": {
            "image/png": "[encoded data removed]",
            "text/plain": [
              "<Figure size 432x288 with 1 Axes>"
            ]
          },
          "metadata": {
            "tags": [],
            "needs_background": "light"
          }
        }
      ]
    },
    {
      "cell_type": "markdown",
      "metadata": {
        "id": "SnJ9ZnjqSD64"
      },
      "source": [
        "That area cooresponds to the probability that the underdog wins! So, we just sum up each point and divide by the total area to get the realtive size of the green region compared to the whole curve. "
      ]
    },
    {
      "cell_type": "code",
      "metadata": {
        "colab": {
          "base_uri": "https://localhost:8080/"
        },
        "id": "BQ4cdUuVQm0b",
        "outputId": "00370ad0-fcdd-4324-f3b1-2262c09e245d"
      },
      "source": [
        "np.sum(y_away_win)/total_integral"
      ],
      "execution_count": 94,
      "outputs": [
        {
          "output_type": "execute_result",
          "data": {
            "text/plain": [
              "0.2576395435592544"
            ]
          },
          "metadata": {
            "tags": []
          },
          "execution_count": 94
        }
      ]
    },
    {
      "cell_type": "markdown",
      "metadata": {
        "id": "8PzNCFqKSOyM"
      },
      "source": [
        "So, about a 25% win chance!\n",
        "\n",
        "What about 14 point?"
      ]
    },
    {
      "cell_type": "code",
      "metadata": {
        "colab": {
          "base_uri": "https://localhost:8080/"
        },
        "id": "dMY5WbVJSNSV",
        "outputId": "79f5119b-0853-4022-857b-d9fadd790f26"
      },
      "source": [
        "np.sum(gauss(x_away_win,norm,sigma,14))/total_integral"
      ],
      "execution_count": 95,
      "outputs": [
        {
          "output_type": "execute_result",
          "data": {
            "text/plain": [
              "0.17710375338149162"
            ]
          },
          "metadata": {
            "tags": []
          },
          "execution_count": 95
        }
      ]
    },
    {
      "cell_type": "markdown",
      "metadata": {
        "id": "mOZwAbtDSgEj"
      },
      "source": [
        "So ~18% in this chance.\n",
        "\n",
        "This whole procedure is just integrating a Gaussian from -inifity to 0, so it is equivalent to:\n",
        "\n",
        "Erf(0, mean=14, scale=16), where Erf==\"error function\", which is just a fancy name for the integral of a Gaussian distribution. \n",
        "\n",
        "\n",
        "...Now, you might have realized that since we have a dataset, we can actually look at games that have a 14 point spread and just check what the win rate is! Lets do that"
      ]
    },
    {
      "cell_type": "code",
      "metadata": {
        "colab": {
          "base_uri": "https://localhost:8080/"
        },
        "id": "6cRAq--uSdG4",
        "outputId": "0844c4b9-5715-418b-ba24-567d408a9749"
      },
      "source": [
        "#select for games with at 14 point line\n",
        "mov_14 = df[df.line==14].mov.to_numpy()\n",
        "underdog_won_func = lambda x: x<0\n",
        "underdog_won = list(map(underdog_won_func,mov_14))\n",
        "\n",
        "#what we have created is a list of games, where games that the underdog wins is marked as 1, and where the favorite wins is marked as 0\n",
        "#so sum of that list = number of games the underdog wins, the total length of the list is the number of games\n",
        "#and the division is the probability that the underdog won\n",
        "nUnderdogWins = np.sum(underdog_won)\n",
        "nGames = len(underdog_won)\n",
        "chance_win = nUnderdogWins/nGames\n",
        "uncertainty = math.sqrt(nUnderdogWins)/nGames\n",
        "\n",
        "print(\"Underdogs win {:.2f}% +- {:.2f}%\".format(chance_win*100, uncertainty*100))"
      ],
      "execution_count": 118,
      "outputs": [
        {
          "output_type": "stream",
          "text": [
            "Underdogs win 16.08% +- 2.51%\n"
          ],
          "name": "stdout"
        }
      ]
    },
    {
      "cell_type": "markdown",
      "metadata": {
        "id": "bjxWv4wzUhZ8"
      },
      "source": [
        "16% +/- 2.5% is within our undertainty of 17.7%, so it looks like things check out!\n",
        "\n",
        "Lets do one last thing and print out the predicted win % chance vs the actual one for different spreads."
      ]
    },
    {
      "cell_type": "code",
      "metadata": {
        "id": "bjCFRjsKWXt8"
      },
      "source": [
        "def get_win_p(lines):\n",
        "  movs = df[df.line==lines].mov.to_numpy()\n",
        "  underdog_won = list(map(underdog_won_func,movs))\n",
        "  nUnderdogWins = np.sum(underdog_won)\n",
        "  nGames = len(underdog_won)\n",
        "  chance_win = nUnderdogWins/nGames\n",
        "  uncertainty = math.sqrt(nUnderdogWins)/nGames\n",
        "  return chance_win, uncertainty, nGames\n",
        "\n",
        "def predicted_win_p(lines):\n",
        "  x_away_win = np.linspace(-100,0,101)\n",
        "  return np.sum(gauss(x_away_win,norm,sigma,lines))"
      ],
      "execution_count": 180,
      "outputs": []
    },
    {
      "cell_type": "code",
      "metadata": {
        "id": "QciJS0q0jxy5"
      },
      "source": [
        "    self.f, self.axs = plt.subplots(2,1, sharex=True, sharey=False, gridspec_kw={'height_ratios': [4, 1]}, figsize=figsize) \n"
      ],
      "execution_count": null,
      "outputs": []
    },
    {
      "cell_type": "code",
      "metadata": {
        "colab": {
          "base_uri": "https://localhost:8080/",
          "height": 735
        },
        "id": "XZ0XN1tSV9R5",
        "outputId": "d39136c5-38f4-4772-e7ae-918a8bac1729"
      },
      "source": [
        "lines = np.linspace(-30,30,41)\n",
        "\n",
        "observed_win_percentages = list(map(get_win_p, lines))\n",
        "\n",
        "predicted_wins = list(map(predicted_win_p, lines))\n",
        "obs_win,obs_unc,nGames = np.asarray(list(zip(*observed_win_percentages)))\n",
        "\n",
        "kernel_unc = np.sqrt(predicted_wins*nGames)/nGames\n",
        "\n",
        "obs_win_up,obs_win_down = obs_win+kernel_unc,obs_win-kernel_unc\n",
        "\n",
        "f,axs = plt.subplots(2,1, sharex=True,sharey=False,gridspec_kw={'height_ratios':[4,1]},figsize=(10,12))\n",
        "axs[0].plot(lines,predicted_wins,color=\"red\", label='predicted win %')\n",
        "axs[0].plot(lines,obs_win, label=\"observed win %\")\n",
        "axs[0].fill_between(lines,obs_win_up,obs_win_down,alpha=.5)\n",
        "axs[0].set_xlabel(\"original line\")\n",
        "axs[0].set_ylabel(\"predicted win probability\")\n",
        "axs[0].set_ylim(0,1)\n",
        "axs[0].legend()\n",
        "axs[0].set_xticks(np.linspace(-30,30,13))\n",
        "axs[0].set_yticks(np.linspace(0,1,11))\n",
        "axs[0].grid(b=True)\n",
        "\n",
        "ratio = obs_win/predicted_wins\n",
        "ratio_unc = kernel_unc/predicted_wins\n",
        "\n",
        "axs[1].set_ylim(0,2)\n",
        "axs[1].plot(lines,np.full(len(lines),1), color='black', linestyle=\"dashed\")\n",
        "axs[1].fill_between(lines,ratio+ratio_unc,ratio-ratio_unc, alpha=.5)\n",
        "axs[1].set_xlabel('ratio of observed/predicted')\n"
      ],
      "execution_count": 185,
      "outputs": [
        {
          "output_type": "execute_result",
          "data": {
            "text/plain": [
              "Text(0.5, 0, 'ratio of observed/predicted')"
            ]
          },
          "metadata": {
            "tags": []
          },
          "execution_count": 185
        },
        {
          "output_type": "display_data",
          "data": {
            "image/png": "[encoded data removed]",
            "text/plain": [
              "<Figure size 720x864 with 2 Axes>"
            ]
          },
          "metadata": {
            "tags": [],
            "needs_background": "light"
          }
        }
      ]
    },
    {
      "cell_type": "code",
      "metadata": {
        "id": "NH-DWVz9kGvG"
      },
      "source": [
        ""
      ],
      "execution_count": null,
      "outputs": []
    }
  ]
}